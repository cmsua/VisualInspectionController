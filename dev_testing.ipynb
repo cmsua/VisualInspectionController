{
 "cells": [
  {
   "cell_type": "code",
   "execution_count": 1,
   "metadata": {},
   "outputs": [
    {
     "name": "stdout",
     "output_type": "stream",
     "text": [
      "Requirement already satisfied: certifi==2024.7.4 in ./.venv/lib/python3.11/site-packages (from -r requirements.txt (line 1)) (2024.7.4)\n",
      "Requirement already satisfied: charset-normalizer==3.3.2 in ./.venv/lib/python3.11/site-packages (from -r requirements.txt (line 2)) (3.3.2)\n",
      "Requirement already satisfied: idna==3.8 in ./.venv/lib/python3.11/site-packages (from -r requirements.txt (line 3)) (3.8)\n",
      "Requirement already satisfied: MoonrakerPy==0.2.2 in ./.venv/lib/python3.11/site-packages (from -r requirements.txt (line 4)) (0.2.2)\n",
      "Requirement already satisfied: numpy==2.1.3 in ./.venv/lib/python3.11/site-packages (from -r requirements.txt (line 5)) (2.1.3)\n",
      "Requirement already satisfied: opencv-python==4.10.0.84 in ./.venv/lib/python3.11/site-packages (from -r requirements.txt (line 6)) (4.10.0.84)\n",
      "Requirement already satisfied: pillow==11.0.0 in ./.venv/lib/python3.11/site-packages (from -r requirements.txt (line 7)) (11.0.0)\n",
      "Requirement already satisfied: requests==2.32.3 in ./.venv/lib/python3.11/site-packages (from -r requirements.txt (line 8)) (2.32.3)\n",
      "Requirement already satisfied: urllib3==2.2.2 in ./.venv/lib/python3.11/site-packages (from -r requirements.txt (line 9)) (2.2.2)\n",
      "Requirement already satisfied: tqdm==4.67.1 in ./.venv/lib/python3.11/site-packages (from -r requirements.txt (line 10)) (4.67.1)\n",
      "\n",
      "\u001b[1m[\u001b[0m\u001b[34;49mnotice\u001b[0m\u001b[1;39;49m]\u001b[0m\u001b[39;49m A new release of pip is available: \u001b[0m\u001b[31;49m24.3.1\u001b[0m\u001b[39;49m -> \u001b[0m\u001b[32;49m25.0\u001b[0m\n",
      "\u001b[1m[\u001b[0m\u001b[34;49mnotice\u001b[0m\u001b[1;39;49m]\u001b[0m\u001b[39;49m To update, run: \u001b[0m\u001b[32;49mpip install --upgrade pip\u001b[0m\n",
      "Requirement already satisfied: ipywidgets in ./.venv/lib/python3.11/site-packages (8.1.5)\n",
      "Requirement already satisfied: comm>=0.1.3 in ./.venv/lib/python3.11/site-packages (from ipywidgets) (0.2.2)\n",
      "Requirement already satisfied: ipython>=6.1.0 in ./.venv/lib/python3.11/site-packages (from ipywidgets) (8.31.0)\n",
      "Requirement already satisfied: traitlets>=4.3.1 in ./.venv/lib/python3.11/site-packages (from ipywidgets) (5.14.3)\n",
      "Requirement already satisfied: widgetsnbextension~=4.0.12 in ./.venv/lib/python3.11/site-packages (from ipywidgets) (4.0.13)\n",
      "Requirement already satisfied: jupyterlab-widgets~=3.0.12 in ./.venv/lib/python3.11/site-packages (from ipywidgets) (3.0.13)\n",
      "Requirement already satisfied: decorator in ./.venv/lib/python3.11/site-packages (from ipython>=6.1.0->ipywidgets) (5.1.1)\n",
      "Requirement already satisfied: jedi>=0.16 in ./.venv/lib/python3.11/site-packages (from ipython>=6.1.0->ipywidgets) (0.19.2)\n",
      "Requirement already satisfied: matplotlib-inline in ./.venv/lib/python3.11/site-packages (from ipython>=6.1.0->ipywidgets) (0.1.7)\n",
      "Requirement already satisfied: pexpect>4.3 in ./.venv/lib/python3.11/site-packages (from ipython>=6.1.0->ipywidgets) (4.9.0)\n",
      "Requirement already satisfied: prompt_toolkit<3.1.0,>=3.0.41 in ./.venv/lib/python3.11/site-packages (from ipython>=6.1.0->ipywidgets) (3.0.50)\n",
      "Requirement already satisfied: pygments>=2.4.0 in ./.venv/lib/python3.11/site-packages (from ipython>=6.1.0->ipywidgets) (2.19.1)\n",
      "Requirement already satisfied: stack_data in ./.venv/lib/python3.11/site-packages (from ipython>=6.1.0->ipywidgets) (0.6.3)\n",
      "Requirement already satisfied: typing_extensions>=4.6 in ./.venv/lib/python3.11/site-packages (from ipython>=6.1.0->ipywidgets) (4.12.2)\n",
      "Requirement already satisfied: parso<0.9.0,>=0.8.4 in ./.venv/lib/python3.11/site-packages (from jedi>=0.16->ipython>=6.1.0->ipywidgets) (0.8.4)\n",
      "Requirement already satisfied: ptyprocess>=0.5 in ./.venv/lib/python3.11/site-packages (from pexpect>4.3->ipython>=6.1.0->ipywidgets) (0.7.0)\n",
      "Requirement already satisfied: wcwidth in ./.venv/lib/python3.11/site-packages (from prompt_toolkit<3.1.0,>=3.0.41->ipython>=6.1.0->ipywidgets) (0.2.13)\n",
      "Requirement already satisfied: executing>=1.2.0 in ./.venv/lib/python3.11/site-packages (from stack_data->ipython>=6.1.0->ipywidgets) (2.1.0)\n",
      "Requirement already satisfied: asttokens>=2.1.0 in ./.venv/lib/python3.11/site-packages (from stack_data->ipython>=6.1.0->ipywidgets) (3.0.0)\n",
      "Requirement already satisfied: pure-eval in ./.venv/lib/python3.11/site-packages (from stack_data->ipython>=6.1.0->ipywidgets) (0.2.3)\n",
      "\n",
      "\u001b[1m[\u001b[0m\u001b[34;49mnotice\u001b[0m\u001b[1;39;49m]\u001b[0m\u001b[39;49m A new release of pip is available: \u001b[0m\u001b[31;49m24.3.1\u001b[0m\u001b[39;49m -> \u001b[0m\u001b[32;49m25.0\u001b[0m\n",
      "\u001b[1m[\u001b[0m\u001b[34;49mnotice\u001b[0m\u001b[1;39;49m]\u001b[0m\u001b[39;49m To update, run: \u001b[0m\u001b[32;49mpip install --upgrade pip\u001b[0m\n"
     ]
    }
   ],
   "source": [
    "!pip3 install -r requirements.txt\n",
    "!pip3 install ipywidgets"
   ]
  },
  {
   "cell_type": "code",
   "execution_count": 2,
   "metadata": {},
   "outputs": [
    {
     "name": "stdout",
     "output_type": "stream",
     "text": [
      "{'logitech_led1_mode': 'off'}\n",
      "<__main__.LogitechCtrl object at 0x7f628351d690>\n",
      "<__main__.LogitechCtrl object at 0x7f628351d690>\n"
     ]
    },
    {
     "name": "stderr",
     "output_type": "stream",
     "text": [
      "cheese: no process found\n"
     ]
    }
   ],
   "source": [
    "import logging\n",
    "import time\n",
    "\n",
    "import moonrakerpy as moonpy\n",
    "import cv2\n",
    "import numpy as np\n",
    "\n",
    "from camera import CameraWrapper\n",
    "\n",
    "logging.basicConfig(format='%(asctime)s - %(name)-24s - %(levelname)-7s - %(message)s (%(filename)s:%(lineno)d)')\n",
    "logger = logging.getLogger('machine')\n",
    "logger.setLevel(logging.DEBUG)\n",
    "\n",
    "# Params\n",
    "stabilize_delay = 3\n",
    "aruco_dict = cv2.aruco.getPredefinedDictionary(cv2.aruco.DICT_6X6_250)\n",
    "parameters = cv2.aruco.DetectorParameters()\n",
    "detector = cv2.aruco.ArucoDetector(aruco_dict, parameters)\n",
    "\n",
    "# Passed Objects\n",
    "printer = moonpy.MoonrakerPrinter('http://localhost')\n",
    "camera = CameraWrapper()"
   ]
  },
  {
   "cell_type": "code",
   "execution_count": 3,
   "metadata": {},
   "outputs": [
    {
     "name": "stderr",
     "output_type": "stream",
     "text": [
      "2025-01-29 14:27:14,127 - machine                  - DEBUG   - Homing X+Y mechanically (1095807946.py:4)\n",
      "2025-01-29 14:27:23,005 - machine                  - DEBUG   - Moving to Aruco marker (1095807946.py:9)\n"
     ]
    }
   ],
   "source": [
    "# Run Homing\n",
    "\n",
    "# Mechanical homing\n",
    "logger.debug('Homing X+Y mechanically')\n",
    "printer.send_gcode('G28 X Y')\n",
    "printer.send_gcode('M400')\n",
    "\n",
    "# Move to Aruco location\n",
    "logger.debug('Moving to Aruco marker')\n",
    "printer.send_gcode('G1 X0 Y0 F6000')\n",
    "printer.send_gcode('M400')\n",
    "time.sleep(stabilize_delay)\n",
    "\n"
   ]
  },
  {
   "cell_type": "code",
   "execution_count": 4,
   "metadata": {},
   "outputs": [
    {
     "name": "stderr",
     "output_type": "stream",
     "text": [
      "2025-01-29 14:27:26,823 - machine                  - INFO    - Running iteration 0 (1897752381.py:2)\n",
      "2025-01-29 14:27:26,824 - machine                  - DEBUG   - Capturing Image (1897752381.py:5)\n",
      "2025-01-29 14:27:26,935 - machine                  - DEBUG   - Found aruco at [ 946.75 1841.75] (y, x) in image of size (2160, 4096, 3) (y, x) and center [1080 2048] (y, x) (1897752381.py:20)\n",
      "2025-01-29 14:27:27,151 - machine                  - DEBUG   - Delta: [133.25 206.25] (y, x), Distance: 60294.625 (1897752381.py:25)\n",
      "2025-01-29 14:27:27,152 - machine                  - DEBUG   - Using movement [2.75 1.78] (x, y) (mm) (1897752381.py:29)\n",
      "2025-01-29 14:27:30,561 - machine                  - INFO    - Running iteration 1 (1897752381.py:2)\n",
      "2025-01-29 14:27:30,562 - machine                  - DEBUG   - Capturing Image (1897752381.py:5)\n",
      "2025-01-29 14:27:30,635 - machine                  - DEBUG   - Found aruco at [1074.5 2046. ] (y, x) in image of size (2160, 4096, 3) (y, x) and center [1080 2048] (y, x) (1897752381.py:20)\n",
      "2025-01-29 14:27:30,871 - machine                  - DEBUG   - Delta: [5.5 2. ] (y, x), Distance: 34.25 (1897752381.py:25)\n",
      "2025-01-29 14:27:30,872 - machine                  - DEBUG   - Using movement [0.03 0.07] (x, y) (mm) (1897752381.py:29)\n",
      "2025-01-29 14:27:34,182 - machine                  - INFO    - Running iteration 2 (1897752381.py:2)\n",
      "2025-01-29 14:27:34,182 - machine                  - DEBUG   - Capturing Image (1897752381.py:5)\n",
      "2025-01-29 14:27:34,237 - machine                  - DEBUG   - Found aruco at [1080.75 2049.  ] (y, x) in image of size (2160, 4096, 3) (y, x) and center [1080 2048] (y, x) (1897752381.py:20)\n",
      "2025-01-29 14:27:34,519 - machine                  - DEBUG   - Delta: [-0.75 -1.  ] (y, x), Distance: 1.5625 (1897752381.py:25)\n",
      "2025-01-29 14:27:34,519 - machine                  - DEBUG   - Using movement [-0.01 -0.01] (x, y) (mm) (1897752381.py:29)\n",
      "2025-01-29 14:27:37,829 - machine                  - INFO    - Running iteration 3 (1897752381.py:2)\n",
      "2025-01-29 14:27:37,829 - machine                  - DEBUG   - Capturing Image (1897752381.py:5)\n",
      "2025-01-29 14:27:37,880 - machine                  - DEBUG   - Found aruco at [1080.25 2047.5 ] (y, x) in image of size (2160, 4096, 3) (y, x) and center [1080 2048] (y, x) (1897752381.py:20)\n",
      "2025-01-29 14:27:38,170 - machine                  - DEBUG   - Delta: [-0.25  0.5 ] (y, x), Distance: 0.3125 (1897752381.py:25)\n",
      "2025-01-29 14:27:38,171 - machine                  - DEBUG   - Using movement [ 0.01 -0.  ] (x, y) (mm) (1897752381.py:29)\n",
      "2025-01-29 14:27:41,481 - machine                  - INFO    - Running iteration 4 (1897752381.py:2)\n",
      "2025-01-29 14:27:41,482 - machine                  - DEBUG   - Capturing Image (1897752381.py:5)\n",
      "2025-01-29 14:27:41,532 - machine                  - DEBUG   - Found aruco at [1080.   2048.25] (y, x) in image of size (2160, 4096, 3) (y, x) and center [1080 2048] (y, x) (1897752381.py:20)\n",
      "2025-01-29 14:27:41,807 - machine                  - DEBUG   - Delta: [ 0.   -0.25] (y, x), Distance: 0.0625 (1897752381.py:25)\n",
      "2025-01-29 14:27:41,807 - machine                  - DEBUG   - Using movement [-0.  0.] (x, y) (mm) (1897752381.py:29)\n"
     ]
    }
   ],
   "source": [
    "for i in range(5):\n",
    "    logger.info(f'Running iteration {i}')\n",
    "\n",
    "    # Take picture\n",
    "    logger.debug('Capturing Image')\n",
    "    image = camera.get_image()\n",
    "\n",
    "    # Find markers\n",
    "    gray = cv2.cvtColor(image, cv2.COLOR_BGR2GRAY)\n",
    "    #gray = cv2.rotate(gray, cv2.ROTATE_90_CLOCKWISE)\n",
    "    corners, ids, rejected = detector.detectMarkers(gray)\n",
    "    cv2.aruco.drawDetectedMarkers(image, corners, ids)\n",
    "\n",
    "    if len(corners) != 1:\n",
    "        raise RuntimeError('Calibration ArUco not found')\n",
    "\n",
    "\n",
    "    location = np.flip(np.mean(corners[0][0], axis=0))\n",
    "    center = np.array(image.shape[0:2]) // 2\n",
    "    logger.debug(f'Found aruco at {location} (y, x) in image of size {image.shape} (y, x) and center {center} (y, x)')\n",
    "    cv2.line(image, location[::-1].astype(int), center[::-1].astype(int), (255,0,0), 10)\n",
    "    cv2.imwrite(f'{i}.png', image)\n",
    "\n",
    "    delta = center - location\n",
    "    logger.debug(f'Delta: {delta} (y, x), Distance: {np.sum(delta ** 2)}')\n",
    "\n",
    "    scale_factor = 75\n",
    "    movement = np.flip(np.round(delta / scale_factor, decimals=2))\n",
    "    logger.debug(f'Using movement {movement} (x, y) (mm)')\n",
    "\n",
    "    # Switch to relative, move\n",
    "    printer.send_gcode('G91')\n",
    "    printer.send_gcode(f'G1 X{-movement[0]} Y{movement[1]}')\n",
    "    printer.send_gcode('G90')\n",
    "    printer.send_gcode('M400')\n",
    "    time.sleep(stabilize_delay)"
   ]
  },
  {
   "cell_type": "code",
   "execution_count": 5,
   "metadata": {},
   "outputs": [
    {
     "name": "stderr",
     "output_type": "stream",
     "text": [
      "2025-01-29 14:27:44,820 - machine                  - DEBUG   - Capturing Image (2626297862.py:2)\n",
      "2025-01-29 14:27:44,874 - machine                  - DEBUG   - Found aruco at [1080.25 2048.75] (y, x) in image of size (2160, 4096, 3) (y, x) and center [1080 2048] (y, x) (2626297862.py:16)\n",
      "2025-01-29 14:27:45,101 - machine                  - DEBUG   - Delta: [0.25 0.75], Distance: 0.625 (2626297862.py:21)\n"
     ]
    }
   ],
   "source": [
    "# Take picture\n",
    "logger.debug('Capturing Image')\n",
    "image = camera.get_image()\n",
    "\n",
    "# Find markers\n",
    "gray = cv2.cvtColor(image, cv2.COLOR_BGR2GRAY)\n",
    "corners, ids, rejected = detector.detectMarkers(gray)\n",
    "cv2.aruco.drawDetectedMarkers(image, corners, ids)\n",
    "\n",
    "if len(corners) != 1:\n",
    "    raise RuntimeError('Calibration ArUco not found')\n",
    "\n",
    "\n",
    "location = np.flip(np.mean(corners[0][0], axis=0))\n",
    "center = np.array(image.shape[0:2]) // 2\n",
    "logger.debug(f'Found aruco at {location} (y, x) in image of size {image.shape} (y, x) and center {center} (y, x)')\n",
    "cv2.line(image, location[::-1].astype(int), center[::-1].astype(int), (255,0,0), 10)\n",
    "cv2.imwrite('2.png', image)\n",
    "\n",
    "delta = location - center\n",
    "logger.debug(f'Delta: {delta}, Distance: {np.sum(delta ** 2)}')\n"
   ]
  }
 ],
 "metadata": {
  "kernelspec": {
   "display_name": ".venv",
   "language": "python",
   "name": "python3"
  },
  "language_info": {
   "codemirror_mode": {
    "name": "ipython",
    "version": 3
   },
   "file_extension": ".py",
   "mimetype": "text/x-python",
   "name": "python",
   "nbconvert_exporter": "python",
   "pygments_lexer": "ipython3",
   "version": "3.11.2"
  }
 },
 "nbformat": 4,
 "nbformat_minor": 2
}

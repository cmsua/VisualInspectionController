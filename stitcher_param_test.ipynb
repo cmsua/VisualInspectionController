{
 "cells": [
  {
   "cell_type": "code",
   "execution_count": 1,
   "metadata": {},
   "outputs": [
    {
     "name": "stdout",
     "output_type": "stream",
     "text": [
      "Requirement already satisfied: certifi==2024.7.4 in ./.venv/lib/python3.11/site-packages (from -r requirements.txt (line 1)) (2024.7.4)\n",
      "Requirement already satisfied: charset-normalizer==3.3.2 in ./.venv/lib/python3.11/site-packages (from -r requirements.txt (line 2)) (3.3.2)\n",
      "Requirement already satisfied: idna==3.8 in ./.venv/lib/python3.11/site-packages (from -r requirements.txt (line 3)) (3.8)\n",
      "Requirement already satisfied: MoonrakerPy==0.2.2 in ./.venv/lib/python3.11/site-packages (from -r requirements.txt (line 4)) (0.2.2)\n",
      "Requirement already satisfied: numpy==2.1.3 in ./.venv/lib/python3.11/site-packages (from -r requirements.txt (line 5)) (2.1.3)\n",
      "Requirement already satisfied: opencv-python==4.10.0.84 in ./.venv/lib/python3.11/site-packages (from -r requirements.txt (line 6)) (4.10.0.84)\n",
      "Requirement already satisfied: pillow==11.0.0 in ./.venv/lib/python3.11/site-packages (from -r requirements.txt (line 7)) (11.0.0)\n",
      "Requirement already satisfied: requests==2.32.3 in ./.venv/lib/python3.11/site-packages (from -r requirements.txt (line 8)) (2.32.3)\n",
      "Requirement already satisfied: urllib3==2.2.2 in ./.venv/lib/python3.11/site-packages (from -r requirements.txt (line 9)) (2.2.2)\n",
      "Requirement already satisfied: tqdm==4.67.1 in ./.venv/lib/python3.11/site-packages (from -r requirements.txt (line 10)) (4.67.1)\n",
      "Requirement already satisfied: ipywidgets in ./.venv/lib/python3.11/site-packages (8.1.5)\n",
      "Requirement already satisfied: comm>=0.1.3 in ./.venv/lib/python3.11/site-packages (from ipywidgets) (0.2.2)\n",
      "Requirement already satisfied: ipython>=6.1.0 in ./.venv/lib/python3.11/site-packages (from ipywidgets) (8.31.0)\n",
      "Requirement already satisfied: traitlets>=4.3.1 in ./.venv/lib/python3.11/site-packages (from ipywidgets) (5.14.3)\n",
      "Requirement already satisfied: widgetsnbextension~=4.0.12 in ./.venv/lib/python3.11/site-packages (from ipywidgets) (4.0.13)\n",
      "Requirement already satisfied: jupyterlab-widgets~=3.0.12 in ./.venv/lib/python3.11/site-packages (from ipywidgets) (3.0.13)\n",
      "Requirement already satisfied: decorator in ./.venv/lib/python3.11/site-packages (from ipython>=6.1.0->ipywidgets) (5.1.1)\n",
      "Requirement already satisfied: jedi>=0.16 in ./.venv/lib/python3.11/site-packages (from ipython>=6.1.0->ipywidgets) (0.19.2)\n",
      "Requirement already satisfied: matplotlib-inline in ./.venv/lib/python3.11/site-packages (from ipython>=6.1.0->ipywidgets) (0.1.7)\n",
      "Requirement already satisfied: pexpect>4.3 in ./.venv/lib/python3.11/site-packages (from ipython>=6.1.0->ipywidgets) (4.9.0)\n",
      "Requirement already satisfied: prompt_toolkit<3.1.0,>=3.0.41 in ./.venv/lib/python3.11/site-packages (from ipython>=6.1.0->ipywidgets) (3.0.50)\n",
      "Requirement already satisfied: pygments>=2.4.0 in ./.venv/lib/python3.11/site-packages (from ipython>=6.1.0->ipywidgets) (2.19.1)\n",
      "Requirement already satisfied: stack_data in ./.venv/lib/python3.11/site-packages (from ipython>=6.1.0->ipywidgets) (0.6.3)\n",
      "Requirement already satisfied: typing_extensions>=4.6 in ./.venv/lib/python3.11/site-packages (from ipython>=6.1.0->ipywidgets) (4.12.2)\n",
      "Requirement already satisfied: parso<0.9.0,>=0.8.4 in ./.venv/lib/python3.11/site-packages (from jedi>=0.16->ipython>=6.1.0->ipywidgets) (0.8.4)\n",
      "Requirement already satisfied: ptyprocess>=0.5 in ./.venv/lib/python3.11/site-packages (from pexpect>4.3->ipython>=6.1.0->ipywidgets) (0.7.0)\n",
      "Requirement already satisfied: wcwidth in ./.venv/lib/python3.11/site-packages (from prompt_toolkit<3.1.0,>=3.0.41->ipython>=6.1.0->ipywidgets) (0.2.13)\n",
      "Requirement already satisfied: executing>=1.2.0 in ./.venv/lib/python3.11/site-packages (from stack_data->ipython>=6.1.0->ipywidgets) (2.1.0)\n",
      "Requirement already satisfied: asttokens>=2.1.0 in ./.venv/lib/python3.11/site-packages (from stack_data->ipython>=6.1.0->ipywidgets) (3.0.0)\n",
      "Requirement already satisfied: pure-eval in ./.venv/lib/python3.11/site-packages (from stack_data->ipython>=6.1.0->ipywidgets) (0.2.3)\n"
     ]
    }
   ],
   "source": [
    "!pip3 install -r requirements.txt\n",
    "!pip3 install ipywidgets"
   ]
  },
  {
   "cell_type": "code",
   "execution_count": 2,
   "metadata": {},
   "outputs": [],
   "source": [
    "import os\n",
    "\n",
    "import image_io\n",
    "output_dir = 'Pictures'\n",
    "\n",
    "all_subdirs = [os.path.join(output_dir, d) for d in os.listdir(output_dir)]\n",
    "folder = max(all_subdirs, key=os.path.getmtime)\n",
    "np_images = image_io.load_images(folder)"
   ]
  },
  {
   "cell_type": "code",
   "execution_count": null,
   "metadata": {},
   "outputs": [],
   "source": [
    "import ipywidgets as widgets\n",
    "import stitcher\n",
    "\n",
    "from PIL import Image\n",
    "import cv2\n",
    "\n",
    "import logging\n",
    "logging.basicConfig(level=logging.INFO)\n",
    "\n",
    "def run(h, v):\n",
    "  img = stitcher.main(np_images, output_dir=None, horz_clip_fraction=h, vert_clip_fraction=v, write_intermediates=False)\n",
    "  img = cv2.cvtColor(img, cv2.COLOR_BGR2RGB)\n",
    "  return Image.fromarray(img)\n",
    "\n",
    "widget = widgets.interact(run,\n",
    "  v=widgets.FloatSlider(desc=\"Vert. Clip\", max=0.45, step=0.05, value=0.2),\n",
    "  h=widgets.FloatSlider(desc=\"Horiz. Clip\", max=0.45, step=0.05, value=0.2)\n",
    ")"
   ]
  }
 ],
 "metadata": {
  "kernelspec": {
   "display_name": ".venv",
   "language": "python",
   "name": "python3"
  },
  "language_info": {
   "codemirror_mode": {
    "name": "ipython",
    "version": 3
   },
   "file_extension": ".py",
   "mimetype": "text/x-python",
   "name": "python",
   "nbconvert_exporter": "python",
   "pygments_lexer": "ipython3",
   "version": "3.11.2"
  }
 },
 "nbformat": 4,
 "nbformat_minor": 2
}

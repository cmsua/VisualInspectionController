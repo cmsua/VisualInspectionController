{
 "cells": [
  {
   "cell_type": "code",
   "execution_count": 8,
   "metadata": {},
   "outputs": [
    {
     "name": "stdout",
     "output_type": "stream",
     "text": [
      "Requirement already satisfied: certifi==2024.7.4 in /home/relia/miniforge3/lib/python3.12/site-packages (from -r requirements.txt (line 1)) (2024.7.4)\n",
      "Requirement already satisfied: charset-normalizer==3.3.2 in /home/relia/miniforge3/lib/python3.12/site-packages (from -r requirements.txt (line 2)) (3.3.2)\n",
      "Requirement already satisfied: idna==3.8 in /home/relia/miniforge3/lib/python3.12/site-packages (from -r requirements.txt (line 3)) (3.8)\n",
      "Requirement already satisfied: MoonrakerPy==0.2.2 in /home/relia/miniforge3/lib/python3.12/site-packages (from -r requirements.txt (line 4)) (0.2.2)\n",
      "Requirement already satisfied: numpy==2.1.3 in /home/relia/miniforge3/lib/python3.12/site-packages (from -r requirements.txt (line 5)) (2.1.3)\n",
      "Requirement already satisfied: opencv-python==4.10.0.84 in /home/relia/miniforge3/lib/python3.12/site-packages (from -r requirements.txt (line 6)) (4.10.0.84)\n",
      "Requirement already satisfied: pillow==11.0.0 in /home/relia/miniforge3/lib/python3.12/site-packages (from -r requirements.txt (line 7)) (11.0.0)\n",
      "Requirement already satisfied: requests==2.32.3 in /home/relia/miniforge3/lib/python3.12/site-packages (from -r requirements.txt (line 8)) (2.32.3)\n",
      "Requirement already satisfied: urllib3==2.2.2 in /home/relia/miniforge3/lib/python3.12/site-packages (from -r requirements.txt (line 9)) (2.2.2)\n",
      "Requirement already satisfied: tqdm==4.67.1 in /home/relia/miniforge3/lib/python3.12/site-packages (from -r requirements.txt (line 10)) (4.67.1)\n",
      "Collecting ipywidgets\n",
      "  Downloading ipywidgets-8.1.5-py3-none-any.whl.metadata (2.3 kB)\n",
      "Requirement already satisfied: comm>=0.1.3 in /home/relia/miniforge3/lib/python3.12/site-packages (from ipywidgets) (0.2.2)\n",
      "Requirement already satisfied: ipython>=6.1.0 in /home/relia/miniforge3/lib/python3.12/site-packages (from ipywidgets) (8.31.0)\n",
      "Requirement already satisfied: traitlets>=4.3.1 in /home/relia/miniforge3/lib/python3.12/site-packages (from ipywidgets) (5.14.3)\n",
      "Collecting widgetsnbextension~=4.0.12 (from ipywidgets)\n",
      "  Downloading widgetsnbextension-4.0.13-py3-none-any.whl.metadata (1.6 kB)\n",
      "Collecting jupyterlab-widgets~=3.0.12 (from ipywidgets)\n",
      "  Downloading jupyterlab_widgets-3.0.13-py3-none-any.whl.metadata (4.1 kB)\n",
      "Requirement already satisfied: decorator in /home/relia/miniforge3/lib/python3.12/site-packages (from ipython>=6.1.0->ipywidgets) (5.1.1)\n",
      "Requirement already satisfied: jedi>=0.16 in /home/relia/miniforge3/lib/python3.12/site-packages (from ipython>=6.1.0->ipywidgets) (0.19.2)\n",
      "Requirement already satisfied: matplotlib-inline in /home/relia/miniforge3/lib/python3.12/site-packages (from ipython>=6.1.0->ipywidgets) (0.1.7)\n",
      "Requirement already satisfied: pexpect>4.3 in /home/relia/miniforge3/lib/python3.12/site-packages (from ipython>=6.1.0->ipywidgets) (4.9.0)\n",
      "Requirement already satisfied: prompt_toolkit<3.1.0,>=3.0.41 in /home/relia/miniforge3/lib/python3.12/site-packages (from ipython>=6.1.0->ipywidgets) (3.0.48)\n",
      "Requirement already satisfied: pygments>=2.4.0 in /home/relia/miniforge3/lib/python3.12/site-packages (from ipython>=6.1.0->ipywidgets) (2.19.1)\n",
      "Requirement already satisfied: stack_data in /home/relia/miniforge3/lib/python3.12/site-packages (from ipython>=6.1.0->ipywidgets) (0.6.3)\n",
      "Requirement already satisfied: parso<0.9.0,>=0.8.4 in /home/relia/miniforge3/lib/python3.12/site-packages (from jedi>=0.16->ipython>=6.1.0->ipywidgets) (0.8.4)\n",
      "Requirement already satisfied: ptyprocess>=0.5 in /home/relia/miniforge3/lib/python3.12/site-packages (from pexpect>4.3->ipython>=6.1.0->ipywidgets) (0.7.0)\n",
      "Requirement already satisfied: wcwidth in /home/relia/miniforge3/lib/python3.12/site-packages (from prompt_toolkit<3.1.0,>=3.0.41->ipython>=6.1.0->ipywidgets) (0.2.13)\n",
      "Requirement already satisfied: executing>=1.2.0 in /home/relia/miniforge3/lib/python3.12/site-packages (from stack_data->ipython>=6.1.0->ipywidgets) (2.1.0)\n",
      "Requirement already satisfied: asttokens>=2.1.0 in /home/relia/miniforge3/lib/python3.12/site-packages (from stack_data->ipython>=6.1.0->ipywidgets) (3.0.0)\n",
      "Requirement already satisfied: pure_eval in /home/relia/miniforge3/lib/python3.12/site-packages (from stack_data->ipython>=6.1.0->ipywidgets) (0.2.3)\n",
      "Downloading ipywidgets-8.1.5-py3-none-any.whl (139 kB)\n",
      "Downloading jupyterlab_widgets-3.0.13-py3-none-any.whl (214 kB)\n",
      "Downloading widgetsnbextension-4.0.13-py3-none-any.whl (2.3 MB)\n",
      "\u001b[2K   \u001b[38;2;114;156;31m━━━━━━━━━━━━━━━━━━━━━━━━━━━━━━━━━━━━━━━━\u001b[0m \u001b[32m2.3/2.3 MB\u001b[0m \u001b[31m20.4 MB/s\u001b[0m eta \u001b[36m0:00:00\u001b[0m\n",
      "\u001b[?25hInstalling collected packages: widgetsnbextension, jupyterlab-widgets, ipywidgets\n",
      "Successfully installed ipywidgets-8.1.5 jupyterlab-widgets-3.0.13 widgetsnbextension-4.0.13\n"
     ]
    }
   ],
   "source": [
    "!pip3 install -r requirements.txt\n",
    "!pip3 install ipywidgets"
   ]
  },
  {
   "cell_type": "code",
   "execution_count": 8,
   "metadata": {},
   "outputs": [
    {
     "ename": "NameError",
     "evalue": "name 'logger' is not defined",
     "output_type": "error",
     "traceback": [
      "\u001b[0;31m---------------------------------------------------------------------------\u001b[0m",
      "\u001b[0;31mNameError\u001b[0m                                 Traceback (most recent call last)",
      "Cell \u001b[0;32mIn[8], line 11\u001b[0m\n\u001b[1;32m      8\u001b[0m all_subdirs \u001b[38;5;241m=\u001b[39m [os\u001b[38;5;241m.\u001b[39mpath\u001b[38;5;241m.\u001b[39mjoin(output_dir, d) \u001b[38;5;28;01mfor\u001b[39;00m d \u001b[38;5;129;01min\u001b[39;00m os\u001b[38;5;241m.\u001b[39mlistdir(output_dir)]\n\u001b[1;32m      9\u001b[0m folder \u001b[38;5;241m=\u001b[39m \u001b[38;5;28mmax\u001b[39m(all_subdirs, key\u001b[38;5;241m=\u001b[39mos\u001b[38;5;241m.\u001b[39mpath\u001b[38;5;241m.\u001b[39mgetmtime)\n\u001b[0;32m---> 11\u001b[0m \u001b[43mlogger\u001b[49m\u001b[38;5;241m.\u001b[39minfo(\u001b[38;5;124mf\u001b[39m\u001b[38;5;124m'\u001b[39m\u001b[38;5;124mLoading images from folder \u001b[39m\u001b[38;5;132;01m{\u001b[39;00mfolder\u001b[38;5;132;01m}\u001b[39;00m\u001b[38;5;124m'\u001b[39m)\n\u001b[1;32m     12\u001b[0m np_images \u001b[38;5;241m=\u001b[39m image_io\u001b[38;5;241m.\u001b[39mload_images(folder)\n",
      "\u001b[0;31mNameError\u001b[0m: name 'logger' is not defined"
     ]
    }
   ],
   "source": [
    "import os\n",
    "\n",
    "import image_io\n",
    "import grid\n",
    "\n",
    "output_dir = 'Pictures'\n",
    "\n",
    "all_subdirs = [os.path.join(output_dir, d) for d in os.listdir(output_dir)]\n",
    "folder = max(all_subdirs, key=os.path.getmtime)\n",
    "np_images = image_io.load_images(folder)"
   ]
  },
  {
   "cell_type": "code",
   "execution_count": 14,
   "metadata": {},
   "outputs": [
    {
     "data": {
      "application/vnd.jupyter.widget-view+json": {
       "model_id": "d6d105fda96e49aaae2286c2abc05ebe",
       "version_major": 2,
       "version_minor": 0
      },
      "text/plain": [
       "interactive(children=(FloatSlider(value=0.0, description='vert_clip_fraction', max=0.5, step=0.05), FloatSlide…"
      ]
     },
     "metadata": {},
     "output_type": "display_data"
    },
    {
     "name": "stdout",
     "output_type": "stream",
     "text": [
      "123\n"
     ]
    }
   ],
   "source": [
    "import ipywidgets as widgets\n",
    "import stitcher\n",
    "\n",
    "widgets.interact(stitcher.main,\n",
    "  vert_clip_fraction=widgets.FloatSlider(desc=\"Vert. Clip\", max=0.5, step=0.05),\n",
    "  horz_clip_fraction=widgets.FloatSlider(desc=\"Horiz. Clip\", max=0.5, step=0.05),\n",
    "  output_dir=widgets.fixed(folder), images=widgets.fixed(images), write_intermediates=widgets.fixed(False))\n",
    "print(123)"
   ]
  }
 ],
 "metadata": {
  "kernelspec": {
   "display_name": "base",
   "language": "python",
   "name": "python3"
  },
  "language_info": {
   "codemirror_mode": {
    "name": "ipython",
    "version": 3
   },
   "file_extension": ".py",
   "mimetype": "text/x-python",
   "name": "python",
   "nbconvert_exporter": "python",
   "pygments_lexer": "ipython3",
   "version": "3.12.7"
  }
 },
 "nbformat": 4,
 "nbformat_minor": 2
}
